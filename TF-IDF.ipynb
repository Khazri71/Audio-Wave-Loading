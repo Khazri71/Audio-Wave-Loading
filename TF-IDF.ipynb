{
  "nbformat": 4,
  "nbformat_minor": 0,
  "metadata": {
    "colab": {
      "provenance": [],
      "authorship_tag": "ABX9TyMSsvAIQ91OlDqIGdVuC2ki",
      "include_colab_link": true
    },
    "kernelspec": {
      "name": "python3",
      "display_name": "Python 3"
    },
    "language_info": {
      "name": "python"
    }
  },
  "cells": [
    {
      "cell_type": "markdown",
      "metadata": {
        "id": "view-in-github",
        "colab_type": "text"
      },
      "source": [
        "<a href=\"https://colab.research.google.com/github/Khazri71/Audio-Wave-Loading/blob/main/TF-IDF.ipynb\" target=\"_parent\"><img src=\"https://colab.research.google.com/assets/colab-badge.svg\" alt=\"Open In Colab\"/></a>"
      ]
    },
    {
      "cell_type": "code",
      "execution_count": 6,
      "metadata": {
        "id": "cp2ctvZkAa3Y"
      },
      "outputs": [],
      "source": [
        "from sklearn.feature_extraction.text import CountVectorizer\n",
        "text = [\" La vectorisation de texte est essentielle en TAL \",\n",
        "        \"La méthode Bag of Words est simple à utiliser  \"]"
      ]
    },
    {
      "cell_type": "code",
      "source": [
        "vectorizer = CountVectorizer()\n",
        "X= vectorizer.fit_transform(text)"
      ],
      "metadata": {
        "id": "mULcao9lA14I"
      },
      "execution_count": 7,
      "outputs": []
    },
    {
      "cell_type": "code",
      "source": [
        "print(\"Vocabulaire:\" , vectorizer.vocabulary_)\n",
        "print(\"Matrice Bow : \\n\" , X.toarray())"
      ],
      "metadata": {
        "colab": {
          "base_uri": "https://localhost:8080/"
        },
        "id": "eOBS1fXiBFbG",
        "outputId": "778bab7f-8600-42d1-936c-160e58f8e2d2"
      },
      "execution_count": 8,
      "outputs": [
        {
          "output_type": "stream",
          "name": "stdout",
          "text": [
            "Vocabulaire: {'la': 5, 'vectorisation': 12, 'de': 1, 'texte': 10, 'est': 4, 'essentielle': 3, 'en': 2, 'tal': 9, 'méthode': 6, 'bag': 0, 'of': 7, 'words': 13, 'simple': 8, 'utiliser': 11}\n",
            "Matrice Bow : \n",
            " [[0 1 1 1 1 1 0 0 0 1 1 0 1 0]\n",
            " [1 0 0 0 1 1 1 1 1 0 0 1 0 1]]\n"
          ]
        }
      ]
    },
    {
      "cell_type": "code",
      "source": [
        "from sklearn.feature_extraction.text import TfidfVectorizer\n",
        "documents = [\" La vectorisation de texte est essentielle\" , \"La méthode IF-IDF est une amélioration de BoW\"]"
      ],
      "metadata": {
        "id": "nln541shD8DR"
      },
      "execution_count": 12,
      "outputs": []
    },
    {
      "cell_type": "code",
      "source": [
        "tfidf_vectorizer =TfidfVectorizer()\n",
        "X = tfidf_vectorizer.fit_transform(documents)"
      ],
      "metadata": {
        "id": "wTJQOiVUEShw"
      },
      "execution_count": 13,
      "outputs": []
    },
    {
      "cell_type": "code",
      "source": [
        "print(\"Vocabulaire:\" , tfidf_vectorizer.vocabulary_)\n",
        "print(\"Matrice IF-IDF :\\n\" , X.toarray())"
      ],
      "metadata": {
        "colab": {
          "base_uri": "https://localhost:8080/"
        },
        "id": "snw3xvJ2EjLl",
        "outputId": "c78e32a0-7d7e-48f2-c35b-dbe9b991d848"
      },
      "execution_count": 14,
      "outputs": [
        {
          "output_type": "stream",
          "name": "stdout",
          "text": [
            "Vocabulaire: {'la': 7, 'vectorisation': 11, 'de': 2, 'texte': 9, 'est': 4, 'essentielle': 3, 'méthode': 8, 'if': 6, 'idf': 5, 'une': 10, 'amélioration': 0, 'bow': 1}\n",
            "Matrice IF-IDF :\n",
            " [[0.         0.         0.33471228 0.47042643 0.33471228 0.\n",
            "  0.         0.33471228 0.         0.47042643 0.         0.47042643]\n",
            " [0.36469323 0.36469323 0.25948224 0.         0.25948224 0.36469323\n",
            "  0.36469323 0.25948224 0.36469323 0.         0.36469323 0.        ]]\n"
          ]
        }
      ]
    }
  ]
}